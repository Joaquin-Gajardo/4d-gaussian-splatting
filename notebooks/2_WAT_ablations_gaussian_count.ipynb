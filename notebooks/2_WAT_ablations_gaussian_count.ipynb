{
 "cells": [
  {
   "cell_type": "code",
   "execution_count": 42,
   "metadata": {},
   "outputs": [],
   "source": [
    "import json\n",
    "from pathlib import Path\n",
    "\n",
    "import pandas as pd\n",
    "import numpy as np"
   ]
  },
  {
   "cell_type": "markdown",
   "metadata": {},
   "source": [
    "### Exp 1-3: varying number on gaussians on full model, no 4DSH, and no 4D rotation"
   ]
  },
  {
   "cell_type": "code",
   "execution_count": 101,
   "metadata": {},
   "outputs": [],
   "source": [
    "base_path = Path('/data-kp/jgajardo/results/4d-gaussian-splatting')\n",
    "experiment_paths = [\n",
    "    base_path / 'output/WAT/realtime4DGS-exp1/force_sh_3d_false',\n",
    "    base_path / 'output/WAT/realtime4DGS-exp1/force_sh_3d_true',\n",
    "    base_path / 'output/WAT/realtime4DGS-exp2/gaussians_500000',\n",
    "    base_path / 'output/WAT/realtime4DGS-exp2/gaussians_1000000',\n",
    "    base_path / 'output/WAT/realtime4DGS-exp2/gaussians_3000000',\n",
    "    base_path / 'output/WAT/realtime4DGS-exp2/gaussians_2000000',\n",
    "    base_path / 'output/WAT/realtime4DGS-exp2/gaussians_4000000',\n",
    "    base_path / 'output/WAT/realtime4DGS-exp3/gaussians_500000/force_sh_3d_true',\n",
    "    base_path / 'output/WAT/realtime4DGS-exp3/gaussians_500000/force_sh_3d_true',\n",
    "    base_path / 'output/WAT/realtime4DGS-exp3/gaussians_500000/rot_4d_false',\n",
    "    base_path / 'output/WAT/realtime4DGS-exp3/gaussians_1000000/force_sh_3d_true',\n",
    "    base_path / 'output/WAT/realtime4DGS-exp3/gaussians_1000000/rot_4d_false',\n",
    "    base_path / 'output/WAT/realtime4DGS-exp3/gaussians_2000000/force_sh_3d_true',\n",
    "    base_path / 'output/WAT/realtime4DGS-exp3/gaussians_2000000/rot_4d_false',\n",
    "    base_path / 'output/WAT/realtime4DGS-exp3/gaussians_3000000/force_sh_3d_true',\n",
    "    base_path / 'output/WAT/realtime4DGS-exp3/gaussians_3000000/rot_4d_false',\n",
    "    base_path / 'output/WAT/realtime4DGS-exp3/gaussians_4000000/force_sh_3d_true',\n",
    "    base_path / 'output/WAT/realtime4DGS-exp3/gaussians_4000000/rot_4d_false',\n",
    "    base_path / 'output/WAT/realtime4DGS-exp3/gaussians_unlimited/rot_4d_false',\n",
    "]"
   ]
  },
  {
   "cell_type": "code",
   "execution_count": 102,
   "metadata": {},
   "outputs": [],
   "source": [
    "def get_results_per_scene(results_path: Path):\n",
    "    results = []\n",
    "    for scene in sorted(results_path.iterdir()):\n",
    "        # Storage\n",
    "        checkpoint = scene / 'chkpnt30000.pth'\n",
    "        if not checkpoint.exists():\n",
    "            print(f\"{checkpoint.name} for scene {scene.name} doesn't exist\")\n",
    "            continue\n",
    "        storage_gb= round(checkpoint.stat().st_size / 1024**3, 3)\n",
    "\n",
    "        # Wanbd metrics\n",
    "        wandb_run_path = scene / 'wandb' / 'latest-run' / 'files'\n",
    "        metadata_json_path = wandb_run_path / 'wandb-metadata.json'\n",
    "        summary_json_path = wandb_run_path / 'wandb-summary.json'\n",
    "\n",
    "        if not metadata_json_path.exists() or not summary_json_path.exists():\n",
    "            print(f\"Wandb json paths can't be found for {scene.name}\")\n",
    "\n",
    "        with open(summary_json_path, 'r') as f:\n",
    "            data = json.load(f)\n",
    "            runtime = int(data.get('_runtime') / 60)\n",
    "            total_gaussians = data.get('total_points', 'N/A')\n",
    "\n",
    "        # NVS metrics\n",
    "        json_path = scene / 'results.json'\n",
    "        if not json_path.exists():\n",
    "            print(f\"{json_path.name} for scene {json_path.parent.name} doesn't exist\")\n",
    "        with open(json_path, 'r') as f:\n",
    "            data = json.load(f)\n",
    "            data = data.get('ours_None', {})\n",
    "            psnr = data.get('PSNR', 'N/A')\n",
    "            ssim = data.get('SSIM', 'N/A')\n",
    "            lpips = data.get('LPIPS', 'N/A')\n",
    "            \n",
    "        metrics = {\n",
    "            'Scene': scene.name,\n",
    "            'PSNR': psnr,\n",
    "            'SSIM': ssim,\n",
    "            'LPIPS': lpips,\n",
    "            'Runtime (min)': runtime,\n",
    "            'Total Gaussians': total_gaussians,\n",
    "            'Storage (GB)': storage_gb,\n",
    "            }\n",
    "        \n",
    "        results.append(metrics)\n",
    "\n",
    "    numeric_keys = ['PSNR', 'SSIM', 'LPIPS', 'Runtime (min)', 'Total Gaussians', 'Storage (GB)']\n",
    "    avg_metrics = {'Scene': 'Average'}\n",
    "    std_metrics = {'Scene': 'Std Dev'}\n",
    "\n",
    "    for key in numeric_keys:\n",
    "        # Convert values to float, excluding 'N/A' values\n",
    "        values = [float(r[key]) for r in results if r[key] != 'N/A']\n",
    "        \n",
    "        if values:  # Only calculate if we have valid values\n",
    "            avg_metrics[key] = round(np.mean(values), 3)\n",
    "            std_metrics[key] = round(np.std(values), 3)\n",
    "        else:\n",
    "            avg_metrics[key] = 'N/A'\n",
    "            std_metrics[key] = 'N/A'\n",
    "\n",
    "    # Append summary rows to results\n",
    "    results.append(avg_metrics)\n",
    "    results.append(std_metrics)\n",
    "\n",
    "    return pd.DataFrame(results)"
   ]
  },
  {
   "cell_type": "code",
   "execution_count": null,
   "metadata": {},
   "outputs": [],
   "source": [
    "output_base_path = Path('../results/2_ablations_gaussians_and_3DSH-3DRot')\n",
    "for results_path in experiment_paths:\n",
    "    results = get_results_per_scene(results_path)\n",
    "    csv_filename = '_'.join(str(results_path.relative_to(base_path)).split('/')[1:])\n",
    "    if 'exp1' in csv_filename:\n",
    "        parts = csv_filename.split('_')\n",
    "        parts.insert(2, 'gaussians_unlimited')\n",
    "        csv_filename = '_'.join(parts)\n",
    "    elif 'exp2' in csv_filename:\n",
    "        csv_filename += '_force_sh_3d_false'\n",
    "    print(f'Writting results file for {csv_filename}.csv')\n",
    "    results.to_csv(f'{csv_filename}.csv', index=False)"
   ]
  }
 ],
 "metadata": {
  "kernelspec": {
   "display_name": "hloc",
   "language": "python",
   "name": "python3"
  },
  "language_info": {
   "codemirror_mode": {
    "name": "ipython",
    "version": 3
   },
   "file_extension": ".py",
   "mimetype": "text/x-python",
   "name": "python",
   "nbconvert_exporter": "python",
   "pygments_lexer": "ipython3",
   "version": "3.8.0"
  }
 },
 "nbformat": 4,
 "nbformat_minor": 2
}
